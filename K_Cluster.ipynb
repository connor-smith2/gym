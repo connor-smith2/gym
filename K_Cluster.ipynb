{
  "nbformat": 4,
  "nbformat_minor": 0,
  "metadata": {
    "colab": {
      "name": "K-Cluster.ipynb",
      "provenance": [],
      "collapsed_sections": [],
      "authorship_tag": "ABX9TyNgFj86wyPSScJcoIdojMIc",
      "include_colab_link": true
    },
    "kernelspec": {
      "name": "python3",
      "display_name": "Python 3"
    }
  },
  "cells": [
    {
      "cell_type": "markdown",
      "metadata": {
        "id": "view-in-github",
        "colab_type": "text"
      },
      "source": [
        "<a href=\"https://colab.research.google.com/github/connor-smith2/gym/blob/master/K_Cluster.ipynb\" target=\"_parent\"><img src=\"https://colab.research.google.com/assets/colab-badge.svg\" alt=\"Open In Colab\"/></a>"
      ]
    },
    {
      "cell_type": "code",
      "metadata": {
        "id": "iR3yuX2If6pM",
        "outputId": "5d2daadc-71a7-4538-c917-48fc4b985cd5",
        "colab": {
          "base_uri": "https://localhost:8080/",
          "height": 537
        }
      },
      "source": [
        "import pandas as pd\n",
        "from sklearn.cluster import KMeans\n",
        "from sklearn.preprocessing import LabelEncoder, OneHotEncoder, MinMaxScaler, LabelBinarizer\n",
        "from sklearn.metrics import silhouette_samples\n",
        "from sklearn.decomposition import PCA\n",
        "import numpy as np\n",
        "from matplotlib import cm\n",
        "import matplotlib.pyplot as plt\n",
        "from mpl_toolkits.mplot3d import axes3d\n",
        "import seaborn as sns\n",
        "import time\n",
        "\n",
        "from google.colab import drive\n",
        "drive.mount('/content/drive', force_remount=True)"
      ],
      "execution_count": null,
      "outputs": [
        {
          "output_type": "error",
          "ename": "KeyboardInterrupt",
          "evalue": "ignored",
          "traceback": [
            "\u001b[0;31m---------------------------------------------------------------------------\u001b[0m",
            "\u001b[0;31mKeyboardInterrupt\u001b[0m                         Traceback (most recent call last)",
            "\u001b[0;32m/usr/local/lib/python3.6/dist-packages/ipykernel/kernelbase.py\u001b[0m in \u001b[0;36m_input_request\u001b[0;34m(self, prompt, ident, parent, password)\u001b[0m\n\u001b[1;32m    728\u001b[0m             \u001b[0;32mtry\u001b[0m\u001b[0;34m:\u001b[0m\u001b[0;34m\u001b[0m\u001b[0;34m\u001b[0m\u001b[0m\n\u001b[0;32m--> 729\u001b[0;31m                 \u001b[0mident\u001b[0m\u001b[0;34m,\u001b[0m \u001b[0mreply\u001b[0m \u001b[0;34m=\u001b[0m \u001b[0mself\u001b[0m\u001b[0;34m.\u001b[0m\u001b[0msession\u001b[0m\u001b[0;34m.\u001b[0m\u001b[0mrecv\u001b[0m\u001b[0;34m(\u001b[0m\u001b[0mself\u001b[0m\u001b[0;34m.\u001b[0m\u001b[0mstdin_socket\u001b[0m\u001b[0;34m,\u001b[0m \u001b[0;36m0\u001b[0m\u001b[0;34m)\u001b[0m\u001b[0;34m\u001b[0m\u001b[0;34m\u001b[0m\u001b[0m\n\u001b[0m\u001b[1;32m    730\u001b[0m             \u001b[0;32mexcept\u001b[0m \u001b[0mException\u001b[0m\u001b[0;34m:\u001b[0m\u001b[0;34m\u001b[0m\u001b[0;34m\u001b[0m\u001b[0m\n",
            "\u001b[0;32m/usr/local/lib/python3.6/dist-packages/jupyter_client/session.py\u001b[0m in \u001b[0;36mrecv\u001b[0;34m(self, socket, mode, content, copy)\u001b[0m\n\u001b[1;32m    802\u001b[0m         \u001b[0;32mtry\u001b[0m\u001b[0;34m:\u001b[0m\u001b[0;34m\u001b[0m\u001b[0;34m\u001b[0m\u001b[0m\n\u001b[0;32m--> 803\u001b[0;31m             \u001b[0mmsg_list\u001b[0m \u001b[0;34m=\u001b[0m \u001b[0msocket\u001b[0m\u001b[0;34m.\u001b[0m\u001b[0mrecv_multipart\u001b[0m\u001b[0;34m(\u001b[0m\u001b[0mmode\u001b[0m\u001b[0;34m,\u001b[0m \u001b[0mcopy\u001b[0m\u001b[0;34m=\u001b[0m\u001b[0mcopy\u001b[0m\u001b[0;34m)\u001b[0m\u001b[0;34m\u001b[0m\u001b[0;34m\u001b[0m\u001b[0m\n\u001b[0m\u001b[1;32m    804\u001b[0m         \u001b[0;32mexcept\u001b[0m \u001b[0mzmq\u001b[0m\u001b[0;34m.\u001b[0m\u001b[0mZMQError\u001b[0m \u001b[0;32mas\u001b[0m \u001b[0me\u001b[0m\u001b[0;34m:\u001b[0m\u001b[0;34m\u001b[0m\u001b[0;34m\u001b[0m\u001b[0m\n",
            "\u001b[0;32m/usr/local/lib/python3.6/dist-packages/zmq/sugar/socket.py\u001b[0m in \u001b[0;36mrecv_multipart\u001b[0;34m(self, flags, copy, track)\u001b[0m\n\u001b[1;32m    490\u001b[0m         \"\"\"\n\u001b[0;32m--> 491\u001b[0;31m         \u001b[0mparts\u001b[0m \u001b[0;34m=\u001b[0m \u001b[0;34m[\u001b[0m\u001b[0mself\u001b[0m\u001b[0;34m.\u001b[0m\u001b[0mrecv\u001b[0m\u001b[0;34m(\u001b[0m\u001b[0mflags\u001b[0m\u001b[0;34m,\u001b[0m \u001b[0mcopy\u001b[0m\u001b[0;34m=\u001b[0m\u001b[0mcopy\u001b[0m\u001b[0;34m,\u001b[0m \u001b[0mtrack\u001b[0m\u001b[0;34m=\u001b[0m\u001b[0mtrack\u001b[0m\u001b[0;34m)\u001b[0m\u001b[0;34m]\u001b[0m\u001b[0;34m\u001b[0m\u001b[0;34m\u001b[0m\u001b[0m\n\u001b[0m\u001b[1;32m    492\u001b[0m         \u001b[0;31m# have first part already, only loop while more to receive\u001b[0m\u001b[0;34m\u001b[0m\u001b[0;34m\u001b[0m\u001b[0;34m\u001b[0m\u001b[0m\n",
            "\u001b[0;32mzmq/backend/cython/socket.pyx\u001b[0m in \u001b[0;36mzmq.backend.cython.socket.Socket.recv\u001b[0;34m()\u001b[0m\n",
            "\u001b[0;32mzmq/backend/cython/socket.pyx\u001b[0m in \u001b[0;36mzmq.backend.cython.socket.Socket.recv\u001b[0;34m()\u001b[0m\n",
            "\u001b[0;32mzmq/backend/cython/socket.pyx\u001b[0m in \u001b[0;36mzmq.backend.cython.socket._recv_copy\u001b[0;34m()\u001b[0m\n",
            "\u001b[0;32m/usr/local/lib/python3.6/dist-packages/zmq/backend/cython/checkrc.pxd\u001b[0m in \u001b[0;36mzmq.backend.cython.checkrc._check_rc\u001b[0;34m()\u001b[0m\n",
            "\u001b[0;31mKeyboardInterrupt\u001b[0m: ",
            "\nDuring handling of the above exception, another exception occurred:\n",
            "\u001b[0;31mKeyboardInterrupt\u001b[0m                         Traceback (most recent call last)",
            "\u001b[0;32m<ipython-input-1-6d63d4d788f1>\u001b[0m in \u001b[0;36m<module>\u001b[0;34m()\u001b[0m\n\u001b[1;32m     12\u001b[0m \u001b[0;34m\u001b[0m\u001b[0m\n\u001b[1;32m     13\u001b[0m \u001b[0;32mfrom\u001b[0m \u001b[0mgoogle\u001b[0m\u001b[0;34m.\u001b[0m\u001b[0mcolab\u001b[0m \u001b[0;32mimport\u001b[0m \u001b[0mdrive\u001b[0m\u001b[0;34m\u001b[0m\u001b[0;34m\u001b[0m\u001b[0m\n\u001b[0;32m---> 14\u001b[0;31m \u001b[0mdrive\u001b[0m\u001b[0;34m.\u001b[0m\u001b[0mmount\u001b[0m\u001b[0;34m(\u001b[0m\u001b[0;34m'/content/drive'\u001b[0m\u001b[0;34m,\u001b[0m \u001b[0mforce_remount\u001b[0m\u001b[0;34m=\u001b[0m\u001b[0;32mTrue\u001b[0m\u001b[0;34m)\u001b[0m\u001b[0;34m\u001b[0m\u001b[0;34m\u001b[0m\u001b[0m\n\u001b[0m",
            "\u001b[0;32m/usr/local/lib/python3.6/dist-packages/google/colab/drive.py\u001b[0m in \u001b[0;36mmount\u001b[0;34m(mountpoint, force_remount, timeout_ms, use_metadata_server)\u001b[0m\n\u001b[1;32m    248\u001b[0m       \u001b[0;32mwith\u001b[0m \u001b[0m_output\u001b[0m\u001b[0;34m.\u001b[0m\u001b[0muse_tags\u001b[0m\u001b[0;34m(\u001b[0m\u001b[0;34m'dfs-auth-dance'\u001b[0m\u001b[0;34m)\u001b[0m\u001b[0;34m:\u001b[0m\u001b[0;34m\u001b[0m\u001b[0;34m\u001b[0m\u001b[0m\n\u001b[1;32m    249\u001b[0m         \u001b[0;32mwith\u001b[0m \u001b[0mopen\u001b[0m\u001b[0;34m(\u001b[0m\u001b[0mfifo\u001b[0m\u001b[0;34m,\u001b[0m \u001b[0;34m'w'\u001b[0m\u001b[0;34m)\u001b[0m \u001b[0;32mas\u001b[0m \u001b[0mfifo_file\u001b[0m\u001b[0;34m:\u001b[0m\u001b[0;34m\u001b[0m\u001b[0;34m\u001b[0m\u001b[0m\n\u001b[0;32m--> 250\u001b[0;31m           \u001b[0mfifo_file\u001b[0m\u001b[0;34m.\u001b[0m\u001b[0mwrite\u001b[0m\u001b[0;34m(\u001b[0m\u001b[0mget_code\u001b[0m\u001b[0;34m(\u001b[0m\u001b[0mauth_prompt\u001b[0m\u001b[0;34m)\u001b[0m \u001b[0;34m+\u001b[0m \u001b[0;34m'\\n'\u001b[0m\u001b[0;34m)\u001b[0m\u001b[0;34m\u001b[0m\u001b[0;34m\u001b[0m\u001b[0m\n\u001b[0m\u001b[1;32m    251\u001b[0m       \u001b[0mwrote_to_fifo\u001b[0m \u001b[0;34m=\u001b[0m \u001b[0;32mTrue\u001b[0m\u001b[0;34m\u001b[0m\u001b[0;34m\u001b[0m\u001b[0m\n\u001b[1;32m    252\u001b[0m     \u001b[0;32melif\u001b[0m \u001b[0mcase\u001b[0m \u001b[0;34m==\u001b[0m \u001b[0;36m5\u001b[0m\u001b[0;34m:\u001b[0m\u001b[0;34m\u001b[0m\u001b[0;34m\u001b[0m\u001b[0m\n",
            "\u001b[0;32m/usr/local/lib/python3.6/dist-packages/ipykernel/kernelbase.py\u001b[0m in \u001b[0;36mraw_input\u001b[0;34m(self, prompt)\u001b[0m\n\u001b[1;32m    702\u001b[0m             \u001b[0mself\u001b[0m\u001b[0;34m.\u001b[0m\u001b[0m_parent_ident\u001b[0m\u001b[0;34m,\u001b[0m\u001b[0;34m\u001b[0m\u001b[0;34m\u001b[0m\u001b[0m\n\u001b[1;32m    703\u001b[0m             \u001b[0mself\u001b[0m\u001b[0;34m.\u001b[0m\u001b[0m_parent_header\u001b[0m\u001b[0;34m,\u001b[0m\u001b[0;34m\u001b[0m\u001b[0;34m\u001b[0m\u001b[0m\n\u001b[0;32m--> 704\u001b[0;31m             \u001b[0mpassword\u001b[0m\u001b[0;34m=\u001b[0m\u001b[0;32mFalse\u001b[0m\u001b[0;34m,\u001b[0m\u001b[0;34m\u001b[0m\u001b[0;34m\u001b[0m\u001b[0m\n\u001b[0m\u001b[1;32m    705\u001b[0m         )\n\u001b[1;32m    706\u001b[0m \u001b[0;34m\u001b[0m\u001b[0m\n",
            "\u001b[0;32m/usr/local/lib/python3.6/dist-packages/ipykernel/kernelbase.py\u001b[0m in \u001b[0;36m_input_request\u001b[0;34m(self, prompt, ident, parent, password)\u001b[0m\n\u001b[1;32m    732\u001b[0m             \u001b[0;32mexcept\u001b[0m \u001b[0mKeyboardInterrupt\u001b[0m\u001b[0;34m:\u001b[0m\u001b[0;34m\u001b[0m\u001b[0;34m\u001b[0m\u001b[0m\n\u001b[1;32m    733\u001b[0m                 \u001b[0;31m# re-raise KeyboardInterrupt, to truncate traceback\u001b[0m\u001b[0;34m\u001b[0m\u001b[0;34m\u001b[0m\u001b[0;34m\u001b[0m\u001b[0m\n\u001b[0;32m--> 734\u001b[0;31m                 \u001b[0;32mraise\u001b[0m \u001b[0mKeyboardInterrupt\u001b[0m\u001b[0;34m\u001b[0m\u001b[0;34m\u001b[0m\u001b[0m\n\u001b[0m\u001b[1;32m    735\u001b[0m             \u001b[0;32melse\u001b[0m\u001b[0;34m:\u001b[0m\u001b[0;34m\u001b[0m\u001b[0;34m\u001b[0m\u001b[0m\n\u001b[1;32m    736\u001b[0m                 \u001b[0;32mbreak\u001b[0m\u001b[0;34m\u001b[0m\u001b[0;34m\u001b[0m\u001b[0m\n",
            "\u001b[0;31mKeyboardInterrupt\u001b[0m: "
          ]
        }
      ]
    },
    {
      "cell_type": "code",
      "metadata": {
        "id": "MHkh9M_6g8e-"
      },
      "source": [
        "path = '/content/drive/My Drive/Data Testing Whole/input_data/training_data.csv'\n",
        "data = pd.read_csv(path)\n",
        "data.columns = ['frame_len', 'ip_src','ip_dst','tcp_src', 'tcp_dst','tcp_time', 'data_len']\n",
        "origdata = data.copy()\n",
        "#data.columns = ['frame_len', 'ip_src', 'tcp_time', 'data_len']\n",
        "ip_src_max = data[[\"ip_src\"]].max()\n",
        "ip_dst_max = data[['ip_dst']].max()\n",
        "tcp_src_max = data[['tcp_src']].max()\n",
        "tcp_dst_max = data[['tcp_dst']].max()\n",
        "data[[\"ip_src\"]] /= ip_src_max\n",
        "data[['ip_dst']] /= ip_dst_max\n",
        "data[['tcp_src']] /= tcp_src_max\n",
        "data[['tcp_dst']] /= tcp_dst_max\n",
        "#print(data.head()) \n",
        "#scalar = MinMaxScaler(feature_range = (0,1))\n",
        "#data[['ip_src', 'ip_dst']] = scalar.fit_transform(data[['ip_src', 'ip_dst']])\n",
        "#data_scaled = pd.DataFrame(scalar.fit_transform(data), columns = data.columns)\n",
        "TrainingData = data\n",
        "TrainingData"
      ],
      "execution_count": null,
      "outputs": []
    },
    {
      "cell_type": "code",
      "metadata": {
        "id": "cZ6fsX-shrGG"
      },
      "source": [
        "km = KMeans(n_clusters=9, init='k-means++', n_init=10, max_iter=300, tol=1e-04, random_state=0)\n",
        "\n",
        "y_km=km.fit_predict(TrainingData)\n",
        "km.cluster_centers_"
      ],
      "execution_count": null,
      "outputs": []
    },
    {
      "cell_type": "code",
      "metadata": {
        "id": "rO4a3Ilfsqwe"
      },
      "source": [
        "TrainingData.loc[0][0]\n",
        "len(TrainingData)"
      ],
      "execution_count": null,
      "outputs": []
    },
    {
      "cell_type": "code",
      "metadata": {
        "id": "85ZgmQ-YM3Of"
      },
      "source": [
        "km.labels_[1:10000]\n",
        "plt.plot(range(1,len(TrainingData)+1), km.labels_)"
      ],
      "execution_count": null,
      "outputs": []
    },
    {
      "cell_type": "code",
      "metadata": {
        "id": "FuP4SuaRttDt"
      },
      "source": [
        "plt.plot(range(1,100), km.labels_[1:100])"
      ],
      "execution_count": null,
      "outputs": []
    },
    {
      "cell_type": "code",
      "metadata": {
        "id": "aN7brPqAuHRs"
      },
      "source": [
        "x = np.linspace(0, 449088, 449088)\n",
        "y = km.labels_\n",
        "\n",
        "plt.plot(x, y, 'o', color='black');"
      ],
      "execution_count": null,
      "outputs": []
    },
    {
      "cell_type": "code",
      "metadata": {
        "id": "JTpeuzgUht63"
      },
      "source": [
        "distortions = []\n",
        "for i in range(1,10):\n",
        "\tkm = KMeans(n_clusters=i, init='k-means++', n_init=10, max_iter=300, random_state=0)\n",
        "\tkm.fit(TrainingData)\n",
        "\tdistortions.append(km.inertia_)\n",
        "plt.plot(range(1,10), distortions, marker='o')\n",
        "plt.xlabel('Number of Clusters')\n",
        "plt.ylabel('Distortion')\n",
        "plt.show()"
      ],
      "execution_count": null,
      "outputs": []
    },
    {
      "cell_type": "code",
      "metadata": {
        "id": "uMHn1qDsh4El"
      },
      "source": [
        "distortion = ((TrainingData-km.cluster_centers_[y_km])**2.0).sum(axis = 1)\n",
        "clusters = km.labels_\n",
        "km.cluster_centers_[y_km].shape"
      ],
      "execution_count": null,
      "outputs": []
    },
    {
      "cell_type": "code",
      "metadata": {
        "id": "9m7ZH1Q1h8Ii"
      },
      "source": [
        "TrainingData['Clusters'] = clusters\n",
        "TrainingData['Distortion'] = distortion\n",
        "TrainingData['orig_ip'] = origdata['ip_src']\n",
        "\n",
        "anomaly = list()\n",
        "for i in range(0,len(distortion)):\n",
        "  anomaly.append(1 if distortion[i] > 0.0003763 else 0)\n",
        "TrainingData['Anomaly'] = anomaly\n",
        "TrainingData\n",
        "print(len(anomaly))\n",
        "i = 0\n",
        "for j in anomaly:\n",
        "  if j == 1: i+=1\n",
        "print(i)"
      ],
      "execution_count": null,
      "outputs": []
    },
    {
      "cell_type": "code",
      "metadata": {
        "id": "uLlhR3Fzic_A"
      },
      "source": [
        "path2 = '/content/drive/My Drive/Data Testing Whole/input_data/test_data.csv'\n",
        "testdata = pd.read_csv(path2)\n",
        "normalizeStart = time.time()\n",
        "testdata.columns = ['frame_len', 'ip_src','ip_dst','tcp_src', 'tcp_dst','tcp_time', 'data_len']\n",
        "origtestdata = testdata.copy()\n",
        "#testdata.columns = ['frame_len', 'ip_src', 'tcp_time', 'data_len']\n",
        "testdata[[\"ip_src\"]] /= ip_src_max\n",
        "testdata[['ip_dst']] /= ip_dst_max\n",
        "testdata[['tcp_src']] /= tcp_src_max\n",
        "testdata[['tcp_dst']] /= tcp_dst_max\n",
        "TestData = testdata\n",
        "normalizeEnd = time.time()\n",
        "print(\"Normalization Time: {}\".format(normalizeEnd-normalizeStart))\n",
        "start = time.time()\n",
        "TestData.head(1)"
      ],
      "execution_count": null,
      "outputs": []
    },
    {
      "cell_type": "code",
      "metadata": {
        "id": "0PFyE0bUishn"
      },
      "source": [
        "ytest_km = km.fit_predict(TestData)\n",
        "end = time.time()\n",
        "print(\"Prediction Time {}\".format(end-start))"
      ],
      "execution_count": null,
      "outputs": []
    },
    {
      "cell_type": "code",
      "metadata": {
        "id": "ZXvU4XayNyE-"
      },
      "source": [
        "TestData.shape\n",
        "#x = ((TestData-km.cluster_centers_[ytest_km])**2.0).sum(axis = 1)\n",
        "km.cluster_centers_[ytest_km].shape"
      ],
      "execution_count": null,
      "outputs": []
    },
    {
      "cell_type": "code",
      "metadata": {
        "id": "vHTVBsdbkwkO"
      },
      "source": [
        "startDistortion = time.time()\n",
        "distortion2 = ((TestData-km.cluster_centers_[ytest_km])**2.0).sum(axis = 1)\n",
        "endDistortion = time.time()\n",
        "print(\"Distortion Calc: {}\".format(endDistortion-startDistortion))\n",
        "#print(distortion2.sum())\n",
        "anomaly2 = list()\n",
        "\n",
        "startApp = time.time()\n",
        "for i in range(0,len(distortion2)):\n",
        "  anomaly2.append(1 if distortion2[i] > 0.0003763 else 0)\n",
        "endApp = time.time()\n",
        "print(\"Anomaly Detection Time: {}\".format(endApp-startApp))\n",
        "i = 0\n",
        "for i in anomaly2:\n",
        "  if i == 1: i+=1\n",
        "print(i)"
      ],
      "execution_count": null,
      "outputs": []
    },
    {
      "cell_type": "code",
      "metadata": {
        "id": "RW3SWzzok2SM"
      },
      "source": [
        "TestData['Clusters'] = ytest_km\n",
        "TestData['Distortion'] = distortion2\n",
        "TestData['orig_ip'] = origtestdata['ip_src']\n",
        "TestData['Anomaly'] = anomaly2\n",
        "TestData"
      ],
      "execution_count": null,
      "outputs": []
    },
    {
      "cell_type": "code",
      "metadata": {
        "id": "YKs8cICok72T"
      },
      "source": [
        "print(\"Summary of Data:\")\n",
        "print(\"Training Data Head: \")\n",
        "print(TrainingData.head())\n",
        "print(\"Testing Data Head: \")\n",
        "print(TestData.head())\n",
        "print(\"Training Data Clusters: \", clusters)\n",
        "print(\"Testing Data Clusters: \", ytest_km)\n",
        "print(\"Training Data Distortion Sum: \", km.inertia_)\n",
        "print(\"Testing Data Distortion Sum: \", distortion2.sum())\n",
        "print(\"Training Data average Distortion :\", TrainingData[\"Distortion\"].mean())\n",
        "print(\"Testing Data average Distortion :\", TestData[\"Distortion\"].mean())\n",
        "print(\"Training Data Min Distortion :\", TrainingData[\"Distortion\"].min())\n",
        "print(\"Testing Data Min Distortion :\", TestData[\"Distortion\"].min())\n",
        "print(\"Training Data Max Distortion :\", TrainingData[\"Distortion\"].max())\n",
        "print(\"Testing Data Max Distortion :\", TestData[\"Distortion\"].max())\n",
        "#For testing TCP Time Interval:\n",
        "print(\"Number of Anomalies :\", TestData[TestData[\"Distortion\"] >.0003763].count())"
      ],
      "execution_count": null,
      "outputs": []
    }
  ]
}